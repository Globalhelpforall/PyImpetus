{
 "cells": [
  {
   "cell_type": "markdown",
   "metadata": {},
   "source": [
    "## Get all your favourite imports"
   ]
  },
  {
   "cell_type": "code",
   "execution_count": 5,
   "metadata": {},
   "outputs": [],
   "source": [
    "import math\n",
    "import numpy as np\n",
    "import pandas as pd\n",
    "from scipy import stats\n",
    "from IPython.display import display\n",
    "from collections import Counter\n",
    "from tqdm.notebook import tqdm\n",
    "from sklearn.ensemble import RandomForestClassifier\n",
    "from sklearn.tree import DecisionTreeClassifier\n",
    "from sklearn.linear_model import LogisticRegression\n",
    "from sklearn.svm import LinearSVC\n",
    "from sklearn.preprocessing import StandardScaler\n",
    "from lightgbm import LGBMClassifier\n",
    "from catboost import CatBoostClassifier\n",
    "from PyImpetus import inter_IAMB\n",
    "from sklearn.metrics import roc_auc_score\n",
    "from sklearn.model_selection import KFold, StratifiedKFold\n",
    "import time\n",
    "import warnings\n",
    "warnings.filterwarnings(\"ignore\")"
   ]
  },
  {
   "cell_type": "markdown",
   "metadata": {},
   "source": [
    "## The JanataHack Cross-Sell AnalyticsVidhya Hackathon dataset requires some specific preprocessing"
   ]
  },
  {
   "cell_type": "code",
   "execution_count": 6,
   "metadata": {
    "tags": []
   },
   "outputs": [
    {
     "output_type": "display_data",
     "data": {
      "text/plain": "   Gender  Age Driving_License Region_Code  Previously_Insured  Vehicle_Age  \\\n0    Male   44             D_1      D_28.0                   0            2   \n1    Male   76             D_1       D_3.0                   0            1   \n2    Male   47             D_1      D_28.0                   0            2   \n3    Male   21             D_1      D_11.0                   1            0   \n4  Female   29             D_1      D_41.0                   1            0   \n\n   Vehicle_Damage  Annual_Premium Policy_Sales_Channel  Vintage  Response  \n0               1         40454.0               D_26.0      217         1  \n1               0         33536.0               D_26.0      183         0  \n2               1         38294.0               D_26.0       27         1  \n3               0         28619.0              D_152.0      203         0  \n4               0         27496.0              D_152.0       39         0  ",
      "text/html": "<div>\n<style scoped>\n    .dataframe tbody tr th:only-of-type {\n        vertical-align: middle;\n    }\n\n    .dataframe tbody tr th {\n        vertical-align: top;\n    }\n\n    .dataframe thead th {\n        text-align: right;\n    }\n</style>\n<table border=\"1\" class=\"dataframe\">\n  <thead>\n    <tr style=\"text-align: right;\">\n      <th></th>\n      <th>Gender</th>\n      <th>Age</th>\n      <th>Driving_License</th>\n      <th>Region_Code</th>\n      <th>Previously_Insured</th>\n      <th>Vehicle_Age</th>\n      <th>Vehicle_Damage</th>\n      <th>Annual_Premium</th>\n      <th>Policy_Sales_Channel</th>\n      <th>Vintage</th>\n      <th>Response</th>\n    </tr>\n  </thead>\n  <tbody>\n    <tr>\n      <th>0</th>\n      <td>Male</td>\n      <td>44</td>\n      <td>D_1</td>\n      <td>D_28.0</td>\n      <td>0</td>\n      <td>2</td>\n      <td>1</td>\n      <td>40454.0</td>\n      <td>D_26.0</td>\n      <td>217</td>\n      <td>1</td>\n    </tr>\n    <tr>\n      <th>1</th>\n      <td>Male</td>\n      <td>76</td>\n      <td>D_1</td>\n      <td>D_3.0</td>\n      <td>0</td>\n      <td>1</td>\n      <td>0</td>\n      <td>33536.0</td>\n      <td>D_26.0</td>\n      <td>183</td>\n      <td>0</td>\n    </tr>\n    <tr>\n      <th>2</th>\n      <td>Male</td>\n      <td>47</td>\n      <td>D_1</td>\n      <td>D_28.0</td>\n      <td>0</td>\n      <td>2</td>\n      <td>1</td>\n      <td>38294.0</td>\n      <td>D_26.0</td>\n      <td>27</td>\n      <td>1</td>\n    </tr>\n    <tr>\n      <th>3</th>\n      <td>Male</td>\n      <td>21</td>\n      <td>D_1</td>\n      <td>D_11.0</td>\n      <td>1</td>\n      <td>0</td>\n      <td>0</td>\n      <td>28619.0</td>\n      <td>D_152.0</td>\n      <td>203</td>\n      <td>0</td>\n    </tr>\n    <tr>\n      <th>4</th>\n      <td>Female</td>\n      <td>29</td>\n      <td>D_1</td>\n      <td>D_41.0</td>\n      <td>1</td>\n      <td>0</td>\n      <td>0</td>\n      <td>27496.0</td>\n      <td>D_152.0</td>\n      <td>39</td>\n      <td>0</td>\n    </tr>\n  </tbody>\n</table>\n</div>"
     },
     "metadata": {}
    },
    {
     "output_type": "stream",
     "name": "stdout",
     "text": "\n"
    },
    {
     "output_type": "display_data",
     "data": {
      "text/plain": "   Gender  Age  Driving_License  Region_Code  Previously_Insured  Vehicle_Age  \\\n0       0   44                1         28.0                   0            2   \n1       0   76                1          3.0                   0            1   \n2       0   47                1         28.0                   0            2   \n3       0   21                1         11.0                   1            0   \n4       1   29                1         41.0                   1            0   \n\n   Vehicle_Damage  Annual_Premium  Policy_Sales_Channel  Vintage  Response  \n0               0         40454.0                  26.0      217         1  \n1               1         33536.0                  26.0      183         0  \n2               0         38294.0                  26.0       27         1  \n3               1         28619.0                 152.0      203         0  \n4               1         27496.0                 152.0       39         0  ",
      "text/html": "<div>\n<style scoped>\n    .dataframe tbody tr th:only-of-type {\n        vertical-align: middle;\n    }\n\n    .dataframe tbody tr th {\n        vertical-align: top;\n    }\n\n    .dataframe thead th {\n        text-align: right;\n    }\n</style>\n<table border=\"1\" class=\"dataframe\">\n  <thead>\n    <tr style=\"text-align: right;\">\n      <th></th>\n      <th>Gender</th>\n      <th>Age</th>\n      <th>Driving_License</th>\n      <th>Region_Code</th>\n      <th>Previously_Insured</th>\n      <th>Vehicle_Age</th>\n      <th>Vehicle_Damage</th>\n      <th>Annual_Premium</th>\n      <th>Policy_Sales_Channel</th>\n      <th>Vintage</th>\n      <th>Response</th>\n    </tr>\n  </thead>\n  <tbody>\n    <tr>\n      <th>0</th>\n      <td>0</td>\n      <td>44</td>\n      <td>1</td>\n      <td>28.0</td>\n      <td>0</td>\n      <td>2</td>\n      <td>0</td>\n      <td>40454.0</td>\n      <td>26.0</td>\n      <td>217</td>\n      <td>1</td>\n    </tr>\n    <tr>\n      <th>1</th>\n      <td>0</td>\n      <td>76</td>\n      <td>1</td>\n      <td>3.0</td>\n      <td>0</td>\n      <td>1</td>\n      <td>1</td>\n      <td>33536.0</td>\n      <td>26.0</td>\n      <td>183</td>\n      <td>0</td>\n    </tr>\n    <tr>\n      <th>2</th>\n      <td>0</td>\n      <td>47</td>\n      <td>1</td>\n      <td>28.0</td>\n      <td>0</td>\n      <td>2</td>\n      <td>0</td>\n      <td>38294.0</td>\n      <td>26.0</td>\n      <td>27</td>\n      <td>1</td>\n    </tr>\n    <tr>\n      <th>3</th>\n      <td>0</td>\n      <td>21</td>\n      <td>1</td>\n      <td>11.0</td>\n      <td>1</td>\n      <td>0</td>\n      <td>1</td>\n      <td>28619.0</td>\n      <td>152.0</td>\n      <td>203</td>\n      <td>0</td>\n    </tr>\n    <tr>\n      <th>4</th>\n      <td>1</td>\n      <td>29</td>\n      <td>1</td>\n      <td>41.0</td>\n      <td>1</td>\n      <td>0</td>\n      <td>1</td>\n      <td>27496.0</td>\n      <td>152.0</td>\n      <td>39</td>\n      <td>0</td>\n    </tr>\n  </tbody>\n</table>\n</div>"
     },
     "metadata": {}
    }
   ],
   "source": [
    "df_train = pd.read_csv(\"train.csv\")\n",
    "df_test = pd.read_csv(\"test.csv\")\n",
    "\n",
    "# Categorical preprocessing for catboost\n",
    "df_train['Driving_License'] = \"D_\" + df_train['Driving_License'].astype(str)\n",
    "df_test['Driving_License'] = \"D_\" + df_test['Driving_License'].astype(str)\n",
    "\n",
    "# Categorical preprocessing for catboost\n",
    "df_train['Region_Code'] = \"D_\" + df_train['Region_Code'].astype(str)\n",
    "df_test['Region_Code'] = \"D_\" + df_test['Region_Code'].astype(str)\n",
    "\n",
    "# Categorical preprocessing for catboost\n",
    "df_train['Policy_Sales_Channel'] = \"D_\" + df_train['Policy_Sales_Channel'].astype(str)\n",
    "df_test['Policy_Sales_Channel'] = \"D_\" + df_test['Policy_Sales_Channel'].astype(str)\n",
    "\n",
    "# Categorical preprocessing for catboost\n",
    "vehicle_damage_map = {\"Yes\": 1, \"No\": 0}\n",
    "df_train['Vehicle_Damage'] = df_train['Vehicle_Damage'].map(vehicle_damage_map)\n",
    "df_test['Vehicle_Damage'] = df_test['Vehicle_Damage'].map(vehicle_damage_map)\n",
    "\n",
    "# Categorical preprocessing for catboost\n",
    "vehicle_age_map = {\"> 2 Years\": 2, \"1-2 Year\": 1, \"< 1 Year\": 0}\n",
    "df_train['Vehicle_Age'] = df_train['Vehicle_Age'].map(vehicle_age_map)\n",
    "df_test['Vehicle_Age'] = df_test['Vehicle_Age'].map(vehicle_age_map)\n",
    "\n",
    "\n",
    "\n",
    "\n",
    "# Since catboost requires string type for its categorical features while other models need label encoding\n",
    "# We create a new dataframe, just for feature-selection.\n",
    "# This problem will not arise for other downstream classfiers such as lightgbm, XGBoost, etc.\n",
    "\n",
    "df_train_ = pd.read_csv(\"train.csv\")\n",
    "\n",
    "# Create a map to convert categorical features to numerical\n",
    "gender_map = {\"Male\": 0, \"Female\": 1}\n",
    "vehicle_age_map = {'< 1 Year': 0, '1-2 Year': 1, '> 2 Years': 2}\n",
    "vehicle_damage = {'Yes': 0, 'No': 1}\n",
    "\n",
    "df_train_[\"Gender\"] = df_train_[\"Gender\"].map(gender_map)\n",
    "df_train_['Vehicle_Age'] = df_train_['Vehicle_Age'].map(vehicle_age_map)\n",
    "df_train_['Vehicle_Damage'] = df_train_['Vehicle_Damage'].map(vehicle_damage)\n",
    "\n",
    "\n",
    "\n",
    "# This feature is not allowed in the competition\n",
    "df_train.drop([\"id\"], axis=1, inplace=True)\n",
    "df_train_.drop([\"id\"], axis=1, inplace=True)\n",
    "\n",
    "display(df_train.head())\n",
    "print()\n",
    "display(df_train_.head())"
   ]
  },
  {
   "cell_type": "markdown",
   "metadata": {},
   "source": [
    "## Perform feature selection and then perform CV to check results\n",
    "#### PyImpetus uses CV internally to select the best features. So no need to run your own CV for FS"
   ]
  },
  {
   "cell_type": "code",
   "execution_count": 7,
   "metadata": {
    "tags": []
   },
   "outputs": [
    {
     "output_type": "stream",
     "name": "stderr",
     "text": "[Parallel(n_jobs=-1)]: Using backend LokyBackend with 8 concurrent workers.\n[Parallel(n_jobs=-1)]: Done   2 out of   5 | elapsed:  9.9min remaining: 14.9min\n[Parallel(n_jobs=-1)]: Done   5 out of   5 | elapsed: 10.9min remaining:    0.0s\n[Parallel(n_jobs=-1)]: Done   5 out of   5 | elapsed: 10.9min finished\n[[6, 4, 8, 5, 1, 3, 0], [6, 4, 8, 5, 1, 3], [6, 4, 5, 1, 8, 3, 0], [6, 4, 1, 8, 5, 3], [6, 4, 8, 5, 1, 3, 0]]\n\n\nFINAL SELECTED FEATURES\n##################################\nFeature:  Vehicle_Damage \tProbability Score:  1.0\nFeature:  Previously_Insured \tProbability Score:  1.0\nFeature:  Policy_Sales_Channel \tProbability Score:  1.0\nFeature:  Vehicle_Age \tProbability Score:  1.0\nFeature:  Age \tProbability Score:  1.0\nFeature:  Region_Code \tProbability Score:  1.0\nFeature:  Gender \tProbability Score:  0.6\n\nX_train_shape:  (381109, 7) \nX_test_shape:  (127037, 7) \nY_shape:  (381109,)\n\n\n\nLearning rate set to 0.118484\n0:\tlearn: 0.5044671\ttotal: 134ms\tremaining: 2m 13s\n250:\tlearn: 0.2622760\ttotal: 26.9s\tremaining: 1m 20s\n500:\tlearn: 0.2604711\ttotal: 54.8s\tremaining: 54.6s\n750:\tlearn: 0.2589679\ttotal: 1m 24s\tremaining: 28.1s\n999:\tlearn: 0.2576182\ttotal: 1m 53s\tremaining: 0us\nScore:  0.8588259838535177\nLearning rate set to 0.118484\n0:\tlearn: 0.5052557\ttotal: 126ms\tremaining: 2m 5s\n250:\tlearn: 0.2629783\ttotal: 28.1s\tremaining: 1m 23s\n500:\tlearn: 0.2612892\ttotal: 56.1s\tremaining: 55.9s\n750:\tlearn: 0.2599674\ttotal: 1m 25s\tremaining: 28.3s\n999:\tlearn: 0.2586919\ttotal: 1m 55s\tremaining: 0us\nScore:  0.858306761184259\nLearning rate set to 0.118484\n0:\tlearn: 0.5024591\ttotal: 123ms\tremaining: 2m 2s\n250:\tlearn: 0.2618789\ttotal: 27.4s\tremaining: 1m 21s\n500:\tlearn: 0.2601961\ttotal: 57.1s\tremaining: 56.9s\n750:\tlearn: 0.2587496\ttotal: 1m 26s\tremaining: 28.6s\n999:\tlearn: 0.2574806\ttotal: 1m 55s\tremaining: 0us\nScore:  0.8578786916601316\nLearning rate set to 0.118484\n0:\tlearn: 0.5019840\ttotal: 160ms\tremaining: 2m 40s\n250:\tlearn: 0.2618825\ttotal: 27.7s\tremaining: 1m 22s\n500:\tlearn: 0.2601387\ttotal: 56.7s\tremaining: 56.5s\n750:\tlearn: 0.2587898\ttotal: 1m 25s\tremaining: 28.4s\n999:\tlearn: 0.2574247\ttotal: 1m 55s\tremaining: 0us\nScore:  0.856051548300114\nLearning rate set to 0.118485\n0:\tlearn: 0.5022396\ttotal: 127ms\tremaining: 2m 6s\n250:\tlearn: 0.2619255\ttotal: 27.9s\tremaining: 1m 23s\n500:\tlearn: 0.2601601\ttotal: 57.5s\tremaining: 57.3s\n750:\tlearn: 0.2587550\ttotal: 1m 25s\tremaining: 28.5s\n999:\tlearn: 0.2574601\ttotal: 1m 55s\tremaining: 0us\nScore:  0.8585654746433244\nFinal Average:  0.8579256919282694\n"
    }
   ],
   "source": [
    "# Initialize your catalyst object\n",
    "fs = inter_IAMB(num_simul=10, n_jobs=-1, verbose=2, random_state=27)\n",
    "# The fit function returns a list of the features selected\n",
    "fs.fit(df_train_.drop(\"Response\", axis=1), df_train_[\"Response\"])\n",
    "feats = fs.final_feats_pandas_\n",
    "# The transform function prunes your pandas dataset to the set of final features\n",
    "X_train = fs.transform(df_train).values\n",
    "# Prune the test dataset as well\n",
    "X_test = fs.transform(df_test).values\n",
    "Y = df_train[\"Response\"].values\n",
    "# Get indices for categorical features. Will require for catboost\n",
    "cat_feat = [df_train[feats].columns.get_loc(i) for i in ['Gender', 'Driving_License', 'Region_Code','Vehicle_Damage', 'Policy_Sales_Channel'] if i in df_train[feats].columns]\n",
    "print(\"\\nX_train_shape: \", X_train.shape, \"\\nX_test_shape: \", X_test.shape, \"\\nY_shape: \", Y.shape)\n",
    "print(\"\\n\\n\")\n",
    "\n",
    "# # Uncomment this if you dont want to use feature selection\n",
    "# X_train = df_train.drop([\"Response\"], axis=1).values\n",
    "# X_test = df_test.drop([\"id\"], axis=1).values\n",
    "# Y = df_train[\"Response\"].values\n",
    "# cat_feat = [df_train.columns.get_loc(i) for  i in ['Gender', 'Driving_License', 'Region_Code','Vehicle_Damage', 'Policy_Sales_Channel']]\n",
    "\n",
    "# Now let's perform Kfold and see what results we get\n",
    "kfold, scores = KFold(n_splits=5, random_state=27, shuffle=True), list()\n",
    "for train, test in kfold.split(X_train):\n",
    "    x_train, x_test = X_train[train], X_train[test]\n",
    "    y_train, y_test = Y[train], Y[test]\n",
    "    \n",
    "    model = CatBoostClassifier(random_state=27, verbose=250)\n",
    "    model.fit(x_train, y_train, cat_features=cat_feat)\n",
    "    preds_proba = model.predict_proba(x_test)[:,1]\n",
    "    \n",
    "    score = roc_auc_score(y_test, preds_proba)\n",
    "    scores.append(score)\n",
    "    print(\"Score: \", score)\n",
    "print(\"Final Average: \", sum(scores)/len(scores))"
   ]
  },
  {
   "cell_type": "markdown",
   "metadata": {},
   "source": [
    "## Final training. Then generate submission file to upload on AV"
   ]
  },
  {
   "cell_type": "code",
   "execution_count": 8,
   "metadata": {
    "tags": []
   },
   "outputs": [
    {
     "output_type": "stream",
     "name": "stdout",
     "text": "Learning rate set to 0.130329\n0:\tlearn: 0.4885149\ttotal: 160ms\tremaining: 2m 40s\n250:\tlearn: 0.2623518\ttotal: 33.9s\tremaining: 1m 41s\n500:\tlearn: 0.2608694\ttotal: 1m 9s\tremaining: 1m 9s\n750:\tlearn: 0.2595959\ttotal: 1m 47s\tremaining: 35.5s\n999:\tlearn: 0.2585836\ttotal: 2m 23s\tremaining: 0us\n"
    }
   ],
   "source": [
    "# Final Average (using PyImpetus):  0.8579          [on LB: 0.8576] Rank=166/600\n",
    "# Final Average (w/o using PyImpetus):  0.8576      [on LB: 0.8568] Rank=223/600\n",
    "\n",
    "# Finally train the model on the whole dataset\n",
    "model = CatBoostClassifier(random_state=27, verbose=250)\n",
    "model.fit(X_train, Y, cat_features=cat_feat)\n",
    "preds_proba = model.predict_proba(X_test)[:,1]\n",
    "\n",
    "# And make a submission\n",
    "fp = open(\"submit.csv\", \"w\")\n",
    "fp.write(\"id,Response\\n\")\n",
    "for id_, pred in zip(df_test[\"id\"].values, preds_proba):\n",
    "    fp.write(str(id_)+\",\"+str(pred)+\"\\n\")\n",
    "fp.close()"
   ]
  }
 ],
 "metadata": {
  "kernelspec": {
   "display_name": "Python 3.8.5 64-bit ('pycaret': conda)",
   "language": "python",
   "name": "python_defaultSpec_1601134689654"
  },
  "language_info": {
   "codemirror_mode": {
    "name": "ipython",
    "version": 3
   },
   "file_extension": ".py",
   "mimetype": "text/x-python",
   "name": "python",
   "nbconvert_exporter": "python",
   "pygments_lexer": "ipython3",
   "version": "3.8.5-final"
  }
 },
 "nbformat": 4,
 "nbformat_minor": 4
}