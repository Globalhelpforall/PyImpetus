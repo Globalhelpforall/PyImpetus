{
 "cells": [
  {
   "cell_type": "markdown",
   "metadata": {},
   "source": [
    "## Get all imports"
   ]
  },
  {
   "cell_type": "code",
   "execution_count": 1,
   "metadata": {},
   "outputs": [],
   "source": [
    "import math\n",
    "import numpy as np\n",
    "import pandas as pd\n",
    "from collections import Counter\n",
    "from PyImpetus import PPIMBR\n",
    "from sklearn.svm import LinearSVR, SVR\n",
    "from sklearn.tree import DecisionTreeRegressor\n",
    "from sklearn.linear_model import Ridge\n",
    "from lightgbm import LGBMRegressor\n",
    "from sklearn.metrics import accuracy_score, mean_squared_error\n",
    "from sklearn.model_selection import KFold, StratifiedKFold, train_test_split\n",
    "from sklearn.preprocessing import StandardScaler, OneHotEncoder\n",
    "import time"
   ]
  },
  {
   "cell_type": "markdown",
   "metadata": {},
   "source": [
    "## Load data"
   ]
  },
  {
   "cell_type": "code",
   "execution_count": 2,
   "metadata": {},
   "outputs": [
    {
     "data": {
      "text/html": [
       "<div>\n",
       "<style scoped>\n",
       "    .dataframe tbody tr th:only-of-type {\n",
       "        vertical-align: middle;\n",
       "    }\n",
       "\n",
       "    .dataframe tbody tr th {\n",
       "        vertical-align: top;\n",
       "    }\n",
       "\n",
       "    .dataframe thead th {\n",
       "        text-align: right;\n",
       "    }\n",
       "</style>\n",
       "<table border=\"1\" class=\"dataframe\">\n",
       "  <thead>\n",
       "    <tr style=\"text-align: right;\">\n",
       "      <th></th>\n",
       "      <th>value0</th>\n",
       "      <th>value1</th>\n",
       "      <th>value2</th>\n",
       "      <th>value3</th>\n",
       "      <th>value4</th>\n",
       "      <th>value5</th>\n",
       "      <th>value6</th>\n",
       "      <th>value7</th>\n",
       "      <th>value8</th>\n",
       "      <th>value9</th>\n",
       "      <th>...</th>\n",
       "      <th>value375</th>\n",
       "      <th>value376</th>\n",
       "      <th>value377</th>\n",
       "      <th>value378</th>\n",
       "      <th>value379</th>\n",
       "      <th>value380</th>\n",
       "      <th>value381</th>\n",
       "      <th>value382</th>\n",
       "      <th>value383</th>\n",
       "      <th>reference</th>\n",
       "    </tr>\n",
       "  </thead>\n",
       "  <tbody>\n",
       "    <tr>\n",
       "      <th>0</th>\n",
       "      <td>0.0</td>\n",
       "      <td>0.0</td>\n",
       "      <td>0.0</td>\n",
       "      <td>0.0</td>\n",
       "      <td>0.0</td>\n",
       "      <td>0.0</td>\n",
       "      <td>-0.25</td>\n",
       "      <td>-0.25</td>\n",
       "      <td>-0.25</td>\n",
       "      <td>-0.25</td>\n",
       "      <td>...</td>\n",
       "      <td>-0.25</td>\n",
       "      <td>0.980381</td>\n",
       "      <td>0.0</td>\n",
       "      <td>0.0</td>\n",
       "      <td>0.0</td>\n",
       "      <td>0.0</td>\n",
       "      <td>0.0</td>\n",
       "      <td>-0.25</td>\n",
       "      <td>-0.25</td>\n",
       "      <td>21.803851</td>\n",
       "    </tr>\n",
       "    <tr>\n",
       "      <th>1</th>\n",
       "      <td>0.0</td>\n",
       "      <td>0.0</td>\n",
       "      <td>0.0</td>\n",
       "      <td>0.0</td>\n",
       "      <td>0.0</td>\n",
       "      <td>0.0</td>\n",
       "      <td>-0.25</td>\n",
       "      <td>-0.25</td>\n",
       "      <td>-0.25</td>\n",
       "      <td>-0.25</td>\n",
       "      <td>...</td>\n",
       "      <td>-0.25</td>\n",
       "      <td>0.977008</td>\n",
       "      <td>0.0</td>\n",
       "      <td>0.0</td>\n",
       "      <td>0.0</td>\n",
       "      <td>0.0</td>\n",
       "      <td>0.0</td>\n",
       "      <td>-0.25</td>\n",
       "      <td>-0.25</td>\n",
       "      <td>21.745726</td>\n",
       "    </tr>\n",
       "    <tr>\n",
       "      <th>2</th>\n",
       "      <td>0.0</td>\n",
       "      <td>0.0</td>\n",
       "      <td>0.0</td>\n",
       "      <td>0.0</td>\n",
       "      <td>0.0</td>\n",
       "      <td>0.0</td>\n",
       "      <td>-0.25</td>\n",
       "      <td>-0.25</td>\n",
       "      <td>-0.25</td>\n",
       "      <td>-0.25</td>\n",
       "      <td>...</td>\n",
       "      <td>-0.25</td>\n",
       "      <td>0.977008</td>\n",
       "      <td>0.0</td>\n",
       "      <td>0.0</td>\n",
       "      <td>0.0</td>\n",
       "      <td>0.0</td>\n",
       "      <td>0.0</td>\n",
       "      <td>-0.25</td>\n",
       "      <td>-0.25</td>\n",
       "      <td>21.687600</td>\n",
       "    </tr>\n",
       "    <tr>\n",
       "      <th>3</th>\n",
       "      <td>0.0</td>\n",
       "      <td>0.0</td>\n",
       "      <td>0.0</td>\n",
       "      <td>0.0</td>\n",
       "      <td>0.0</td>\n",
       "      <td>0.0</td>\n",
       "      <td>-0.25</td>\n",
       "      <td>-0.25</td>\n",
       "      <td>-0.25</td>\n",
       "      <td>-0.25</td>\n",
       "      <td>...</td>\n",
       "      <td>-0.25</td>\n",
       "      <td>0.977008</td>\n",
       "      <td>0.0</td>\n",
       "      <td>0.0</td>\n",
       "      <td>0.0</td>\n",
       "      <td>0.0</td>\n",
       "      <td>0.0</td>\n",
       "      <td>-0.25</td>\n",
       "      <td>-0.25</td>\n",
       "      <td>21.629474</td>\n",
       "    </tr>\n",
       "    <tr>\n",
       "      <th>4</th>\n",
       "      <td>0.0</td>\n",
       "      <td>0.0</td>\n",
       "      <td>0.0</td>\n",
       "      <td>0.0</td>\n",
       "      <td>0.0</td>\n",
       "      <td>0.0</td>\n",
       "      <td>-0.25</td>\n",
       "      <td>-0.25</td>\n",
       "      <td>-0.25</td>\n",
       "      <td>-0.25</td>\n",
       "      <td>...</td>\n",
       "      <td>-0.25</td>\n",
       "      <td>0.976833</td>\n",
       "      <td>0.0</td>\n",
       "      <td>0.0</td>\n",
       "      <td>0.0</td>\n",
       "      <td>0.0</td>\n",
       "      <td>0.0</td>\n",
       "      <td>-0.25</td>\n",
       "      <td>-0.25</td>\n",
       "      <td>21.571348</td>\n",
       "    </tr>\n",
       "  </tbody>\n",
       "</table>\n",
       "<p>5 rows × 385 columns</p>\n",
       "</div>"
      ],
      "text/plain": [
       "   value0  value1  value2  value3  value4  value5  value6  value7  value8  \\\n",
       "0     0.0     0.0     0.0     0.0     0.0     0.0   -0.25   -0.25   -0.25   \n",
       "1     0.0     0.0     0.0     0.0     0.0     0.0   -0.25   -0.25   -0.25   \n",
       "2     0.0     0.0     0.0     0.0     0.0     0.0   -0.25   -0.25   -0.25   \n",
       "3     0.0     0.0     0.0     0.0     0.0     0.0   -0.25   -0.25   -0.25   \n",
       "4     0.0     0.0     0.0     0.0     0.0     0.0   -0.25   -0.25   -0.25   \n",
       "\n",
       "   value9  ...  value375  value376  value377  value378  value379  value380  \\\n",
       "0   -0.25  ...     -0.25  0.980381       0.0       0.0       0.0       0.0   \n",
       "1   -0.25  ...     -0.25  0.977008       0.0       0.0       0.0       0.0   \n",
       "2   -0.25  ...     -0.25  0.977008       0.0       0.0       0.0       0.0   \n",
       "3   -0.25  ...     -0.25  0.977008       0.0       0.0       0.0       0.0   \n",
       "4   -0.25  ...     -0.25  0.976833       0.0       0.0       0.0       0.0   \n",
       "\n",
       "   value381  value382  value383  reference  \n",
       "0       0.0     -0.25     -0.25  21.803851  \n",
       "1       0.0     -0.25     -0.25  21.745726  \n",
       "2       0.0     -0.25     -0.25  21.687600  \n",
       "3       0.0     -0.25     -0.25  21.629474  \n",
       "4       0.0     -0.25     -0.25  21.571348  \n",
       "\n",
       "[5 rows x 385 columns]"
      ]
     },
     "metadata": {},
     "output_type": "display_data"
    },
    {
     "name": "stdout",
     "output_type": "stream",
     "text": [
      "Data shape:  (53500, 384) Target Variable shape:  (53500,)\n"
     ]
    }
   ],
   "source": [
    "# Load the data into a dataframe\n",
    "df = pd.read_csv(\"slice_localization_data.csv\")\n",
    "# Pre-process the data\n",
    "df = df.drop([\"patientId\"], axis=1)\n",
    "# Lets check it out\n",
    "display(df.head())\n",
    "# Split the data into input features and target variable\n",
    "data, Y = df.drop([\"reference\"], axis=1), df[\"reference\"].values\n",
    "# Lets check out the shape of our data\n",
    "print(\"Data shape: \", data.shape, \"Target Variable shape: \", Y.shape)"
   ]
  },
  {
   "cell_type": "markdown",
   "metadata": {},
   "source": [
    "## Modelling with Decision Tree without PyImpetus"
   ]
  },
  {
   "cell_type": "code",
   "execution_count": 4,
   "metadata": {},
   "outputs": [
    {
     "name": "stdout",
     "output_type": "stream",
     "text": [
      "MSE:  5.975008446757659\n",
      "Time Required (in seconds):  5.493305921554565\n"
     ]
    }
   ],
   "source": [
    "# Use Train-test split for understanding the performance of PyImpetus\n",
    "x_train, x_test, y_train, y_test = train_test_split(data, Y, test_size=0.2, random_state=27, shuffle=True)\n",
    "# We want to time our algorithm\n",
    "start = time.time()\n",
    "\n",
    "# Convert the data into numpy arrays\n",
    "x_train, x_test = x_train.values, x_test.values\n",
    "\n",
    "model = DecisionTreeRegressor(random_state=27)\n",
    "model.fit(x_train, y_train)\n",
    "preds = model.predict(x_test)\n",
    "score = mean_squared_error(y_test, preds)\n",
    "print(\"MSE: \", score)\n",
    "end = time.time()\n",
    "print(\"Time Required (in seconds): \", end-start)"
   ]
  },
  {
   "cell_type": "markdown",
   "metadata": {},
   "source": [
    "## Modelling with Decision Tree using PyImpetus (fast but less robust feature subset selection)"
   ]
  },
  {
   "cell_type": "code",
   "execution_count": 7,
   "metadata": {
    "scrolled": true
   },
   "outputs": [
    {
     "name": "stdout",
     "output_type": "stream",
     "text": [
      "Number of features selected:  45\n",
      "Score:  5.16066413147826\n",
      "Time Required (in seconds):  1296.1260921955109\n"
     ]
    }
   ],
   "source": [
    "# Use Train-test split for understanding the performance of PyImpetus\n",
    "x_train, x_test, y_train, y_test = train_test_split(data, Y, test_size=0.2, random_state=27, shuffle=True)\n",
    "# We want to time our algorithm\n",
    "start = time.time()\n",
    "\n",
    "# Create a PyImpetus classification object and initialize with required parameters\n",
    "# NOTE: To achieve fast selection, set cv=0 for disabling the use of any internal cross-validation\n",
    "model = PPIMBR(DecisionTreeRegressor(random_state=27), cv=0, p_val_thresh=0.001, num_simul=5, random_state=27, verbose=0)\n",
    "# Fit this above object on the train part and transform the train dataset into selected feature subset\n",
    "# NOTE: x_train has to be a dataframe and y_train has to be a numpy array\n",
    "x_train = model.fit_transform(x_train, y_train)\n",
    "# Transform the test set as well\n",
    "# NOTE: x_test has to be a dataframe\n",
    "x_test = model.transform(x_test)\n",
    "# Check out the number of features selected\n",
    "print(\"Number of features selected: \", len(model.MB))\n",
    "# Convert the data into numpy arrays\n",
    "x_train, x_test = x_train.values, x_test.values\n",
    "\n",
    "model = DecisionTreeRegressor(random_state=27)\n",
    "model.fit(x_train, y_train)\n",
    "preds = model.predict(x_test)\n",
    "score = mean_squared_error(y_test, preds)\n",
    "print(\"Score: \", score)\n",
    "end = time.time()\n",
    "print(\"Time Required (in seconds): \", end-start)"
   ]
  },
  {
   "cell_type": "markdown",
   "metadata": {},
   "source": [
    "# Final Results (MSE is used so less is better)"
   ]
  },
  {
   "cell_type": "markdown",
   "metadata": {},
   "source": [
    "### Final MSE without PyImpetus: 5.98 (5.49 seconds)\n",
    "### Final MSE with PyImpetus (cv==0): 5.16066413147826 (1296.13 seconds)"
   ]
  }
 ],
 "metadata": {
  "kernelspec": {
   "display_name": "Python 3",
   "language": "python",
   "name": "python3"
  },
  "language_info": {
   "codemirror_mode": {
    "name": "ipython",
    "version": 3
   },
   "file_extension": ".py",
   "mimetype": "text/x-python",
   "name": "python",
   "nbconvert_exporter": "python",
   "pygments_lexer": "ipython3",
   "version": "3.8.8"
  }
 },
 "nbformat": 4,
 "nbformat_minor": 4
}
