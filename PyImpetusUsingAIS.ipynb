{
 "cells": [
  {
   "cell_type": "code",
   "execution_count": 16,
   "id": "7449bef7",
   "metadata": {},
   "outputs": [],
   "source": [
    "import math\n",
    "import numpy as np\n",
    "import pandas as pd\n",
    "from collections import Counter\n",
    "from PyImpetus import PPIMBC\n",
    "from sklearn.svm import LinearSVC, SVC\n",
    "from sklearn.tree import DecisionTreeClassifier\n",
    "from sklearn.linear_model import LogisticRegression\n",
    "from sklearn.metrics import accuracy_score\n",
    "from sklearn.model_selection import KFold, StratifiedKFold\n",
    "from sklearn.naive_bayes import GaussianNB\n",
    "from sklearn.preprocessing import StandardScaler, OneHotEncoder\n",
    "import time"
   ]
  },
  {
   "cell_type": "code",
   "execution_count": 73,
   "id": "24a45ff9",
   "metadata": {},
   "outputs": [
    {
     "data": {
      "text/html": [
       "<div>\n",
       "<style scoped>\n",
       "    .dataframe tbody tr th:only-of-type {\n",
       "        vertical-align: middle;\n",
       "    }\n",
       "\n",
       "    .dataframe tbody tr th {\n",
       "        vertical-align: top;\n",
       "    }\n",
       "\n",
       "    .dataframe thead th {\n",
       "        text-align: right;\n",
       "    }\n",
       "</style>\n",
       "<table border=\"1\" class=\"dataframe\">\n",
       "  <thead>\n",
       "    <tr style=\"text-align: right;\">\n",
       "      <th></th>\n",
       "      <th>cog</th>\n",
       "      <th>sog</th>\n",
       "      <th>beam</th>\n",
       "      <th>callsign</th>\n",
       "      <th>cargo</th>\n",
       "      <th>heading</th>\n",
       "      <th>imonumber</th>\n",
       "      <th>latitude</th>\n",
       "      <th>length</th>\n",
       "      <th>longitude</th>\n",
       "      <th>mmsi</th>\n",
       "      <th>name</th>\n",
       "      <th>navstatus</th>\n",
       "      <th>timeoffix</th>\n",
       "      <th>vesseltype</th>\n",
       "      <th>date</th>\n",
       "    </tr>\n",
       "  </thead>\n",
       "  <tbody>\n",
       "    <tr>\n",
       "      <th>0</th>\n",
       "      <td>64.0</td>\n",
       "      <td>11.0</td>\n",
       "      <td>65.0</td>\n",
       "      <td>9V9123</td>\n",
       "      <td>0-AllShips</td>\n",
       "      <td>64.0</td>\n",
       "      <td>9532599.0</td>\n",
       "      <td>-25.420000</td>\n",
       "      <td>360.0</td>\n",
       "      <td>84.633333</td>\n",
       "      <td>563950000</td>\n",
       "      <td>Yuan Zhuo Hai</td>\n",
       "      <td>0-Underway(Engine)</td>\n",
       "      <td>1607606344</td>\n",
       "      <td>7-Cargo</td>\n",
       "      <td>2020-12-10</td>\n",
       "    </tr>\n",
       "    <tr>\n",
       "      <th>1</th>\n",
       "      <td>65.4</td>\n",
       "      <td>12.1</td>\n",
       "      <td>65.0</td>\n",
       "      <td>9V9123</td>\n",
       "      <td>0-AllShips</td>\n",
       "      <td>64.0</td>\n",
       "      <td>9532599.0</td>\n",
       "      <td>-25.294915</td>\n",
       "      <td>360.0</td>\n",
       "      <td>84.933403</td>\n",
       "      <td>563950000</td>\n",
       "      <td>Yuan Zhuo Hai</td>\n",
       "      <td>0-Underway(Engine)</td>\n",
       "      <td>1607611680</td>\n",
       "      <td>7-Cargo</td>\n",
       "      <td>2020-12-10</td>\n",
       "    </tr>\n",
       "    <tr>\n",
       "      <th>2</th>\n",
       "      <td>323.0</td>\n",
       "      <td>14.1</td>\n",
       "      <td>35.0</td>\n",
       "      <td>V7QX3</td>\n",
       "      <td>0-AllShips</td>\n",
       "      <td>320.0</td>\n",
       "      <td>9813113.0</td>\n",
       "      <td>-24.770147</td>\n",
       "      <td>228.0</td>\n",
       "      <td>106.331890</td>\n",
       "      <td>538008009</td>\n",
       "      <td>Barramundi</td>\n",
       "      <td>0-Underway(Engine)</td>\n",
       "      <td>1607611196</td>\n",
       "      <td>7-Cargo</td>\n",
       "      <td>2020-12-10</td>\n",
       "    </tr>\n",
       "    <tr>\n",
       "      <th>3</th>\n",
       "      <td>339.8</td>\n",
       "      <td>19.8</td>\n",
       "      <td>32.0</td>\n",
       "      <td>HOMQ</td>\n",
       "      <td>0-AllShips</td>\n",
       "      <td>342.0</td>\n",
       "      <td>9536818.0</td>\n",
       "      <td>-24.511267</td>\n",
       "      <td>199.0</td>\n",
       "      <td>111.501532</td>\n",
       "      <td>371158000</td>\n",
       "      <td>Gaia Leader</td>\n",
       "      <td>0-Underway(Engine)</td>\n",
       "      <td>1607611210</td>\n",
       "      <td>7-Cargo</td>\n",
       "      <td>2020-12-10</td>\n",
       "    </tr>\n",
       "    <tr>\n",
       "      <th>4</th>\n",
       "      <td>337.8</td>\n",
       "      <td>10.7</td>\n",
       "      <td>32.0</td>\n",
       "      <td>V7JI6</td>\n",
       "      <td>0-AllShips</td>\n",
       "      <td>338.0</td>\n",
       "      <td>9712709.0</td>\n",
       "      <td>-25.042857</td>\n",
       "      <td>199.0</td>\n",
       "      <td>111.283643</td>\n",
       "      <td>538006056</td>\n",
       "      <td>Star Lutas</td>\n",
       "      <td>0-Underway(Engine)</td>\n",
       "      <td>1607611211</td>\n",
       "      <td>7-Cargo</td>\n",
       "      <td>2020-12-10</td>\n",
       "    </tr>\n",
       "  </tbody>\n",
       "</table>\n",
       "</div>"
      ],
      "text/plain": [
       "     cog   sog  beam callsign       cargo  heading  imonumber   latitude  \\\n",
       "0   64.0  11.0  65.0   9V9123  0-AllShips     64.0  9532599.0 -25.420000   \n",
       "1   65.4  12.1  65.0   9V9123  0-AllShips     64.0  9532599.0 -25.294915   \n",
       "2  323.0  14.1  35.0    V7QX3  0-AllShips    320.0  9813113.0 -24.770147   \n",
       "3  339.8  19.8  32.0     HOMQ  0-AllShips    342.0  9536818.0 -24.511267   \n",
       "4  337.8  10.7  32.0    V7JI6  0-AllShips    338.0  9712709.0 -25.042857   \n",
       "\n",
       "   length   longitude       mmsi           name           navstatus  \\\n",
       "0   360.0   84.633333  563950000  Yuan Zhuo Hai  0-Underway(Engine)   \n",
       "1   360.0   84.933403  563950000  Yuan Zhuo Hai  0-Underway(Engine)   \n",
       "2   228.0  106.331890  538008009     Barramundi  0-Underway(Engine)   \n",
       "3   199.0  111.501532  371158000    Gaia Leader  0-Underway(Engine)   \n",
       "4   199.0  111.283643  538006056     Star Lutas  0-Underway(Engine)   \n",
       "\n",
       "    timeoffix vesseltype       date  \n",
       "0  1607606344    7-Cargo 2020-12-10  \n",
       "1  1607611680    7-Cargo 2020-12-10  \n",
       "2  1607611196    7-Cargo 2020-12-10  \n",
       "3  1607611210    7-Cargo 2020-12-10  \n",
       "4  1607611211    7-Cargo 2020-12-10  "
      ]
     },
     "execution_count": 73,
     "metadata": {},
     "output_type": "execute_result"
    }
   ],
   "source": [
    "original_ais_df=pd.read_pickle('AIS_UNACORN_Seatracks.pkl')\n",
    "original_ais_df.head()"
   ]
  },
  {
   "cell_type": "code",
   "execution_count": 18,
   "id": "e09da8b0",
   "metadata": {},
   "outputs": [
    {
     "name": "stdout",
     "output_type": "stream",
     "text": [
      "<class 'pandas.core.frame.DataFrame'>\n",
      "RangeIndex: 103997 entries, 0 to 103996\n",
      "Data columns (total 16 columns):\n",
      " #   Column      Non-Null Count   Dtype         \n",
      "---  ------      --------------   -----         \n",
      " 0   cog         103997 non-null  float64       \n",
      " 1   sog         103997 non-null  float64       \n",
      " 2   beam        102611 non-null  float64       \n",
      " 3   callsign    102611 non-null  object        \n",
      " 4   cargo       102611 non-null  object        \n",
      " 5   heading     103997 non-null  float64       \n",
      " 6   imonumber   102611 non-null  float64       \n",
      " 7   latitude    103997 non-null  float64       \n",
      " 8   length      102611 non-null  float64       \n",
      " 9   longitude   103997 non-null  float64       \n",
      " 10  mmsi        103997 non-null  int64         \n",
      " 11  name        102611 non-null  object        \n",
      " 12  navstatus   103997 non-null  object        \n",
      " 13  timeoffix   103997 non-null  int64         \n",
      " 14  vesseltype  102611 non-null  object        \n",
      " 15  date        103997 non-null  datetime64[ns]\n",
      "dtypes: datetime64[ns](1), float64(8), int64(2), object(5)\n",
      "memory usage: 12.7+ MB\n"
     ]
    }
   ],
   "source": [
    "original_ais_df.info()"
   ]
  },
  {
   "cell_type": "code",
   "execution_count": 76,
   "id": "ff3e8216",
   "metadata": {},
   "outputs": [],
   "source": [
    "original_ais_df=original_ais_df[['cog','sog', 'beam','latitude','longitude','heading', 'length','mmsi']].dropna()"
   ]
  },
  {
   "cell_type": "code",
   "execution_count": 77,
   "id": "09c46e63",
   "metadata": {},
   "outputs": [],
   "source": [
    "original_ais_df=original_ais_df.head(10000)"
   ]
  },
  {
   "cell_type": "code",
   "execution_count": 78,
   "id": "fef375e8",
   "metadata": {},
   "outputs": [
    {
     "data": {
      "text/plain": [
       "10000"
      ]
     },
     "execution_count": 78,
     "metadata": {},
     "output_type": "execute_result"
    }
   ],
   "source": [
    "len(original_ais_df)"
   ]
  },
  {
   "cell_type": "code",
   "execution_count": 79,
   "id": "c2941455",
   "metadata": {},
   "outputs": [],
   "source": [
    "data, Y = original_ais_df.drop(['mmsi'], axis=1), original_ais_df['mmsi'].values"
   ]
  },
  {
   "cell_type": "code",
   "execution_count": 80,
   "id": "8349c8c2",
   "metadata": {},
   "outputs": [],
   "source": [
    "data=original_ais_df[['cog','sog', 'beam','latitude','longitude','heading', 'length']]"
   ]
  },
  {
   "cell_type": "code",
   "execution_count": 21,
   "id": "180eca18",
   "metadata": {},
   "outputs": [
    {
     "name": "stdout",
     "output_type": "stream",
     "text": [
      "Score:  0.00204648443210057\n",
      "Score:  0.0018516713770587662\n",
      "Score:  0.0018516713770587662\n",
      "Score:  0.0023389533183900205\n",
      "Score:  0.0018516713770587662\n",
      "\n",
      "\n",
      "Average Accuracy:  0.0019880903763333777\n",
      "\n",
      "\n",
      "Total Time Required (in seconds):  4558.521675348282\n"
     ]
    }
   ],
   "source": [
    "\n",
    "# We want to time our algorithm\n",
    "start = time.time()\n",
    "# Use KFold for understanding the performance of PyImpetus\n",
    "kfold = KFold(n_splits=5, random_state=27, shuffle=True)\n",
    "# This will hold all the accuracy scores\n",
    "scores = list()\n",
    "# Perform CV\n",
    "for train, test in kfold.split(data):\n",
    "    # Split data into train and test based on folds\n",
    "    x_train, x_test = data.iloc[train], data.iloc[test]\n",
    "    y_train, y_test = Y[train], Y[test]\n",
    "    \n",
    "    # Convert the data into numpy arrays\n",
    "    x_train, x_test = x_train.values, x_test.values\n",
    "    \n",
    "    model = DecisionTreeClassifier(random_state=27)\n",
    "    model.fit(x_train, y_train)\n",
    "    preds = model.predict(x_test)\n",
    "    score = accuracy_score(y_test, preds)\n",
    "    scores.append(score)\n",
    "    print(\"Score: \", score)\n",
    "# Compute average score\n",
    "print(\"\\n\\nAverage Accuracy: \", sum(scores)/len(scores))\n",
    "# Finally, check out the total time taken\n",
    "end = time.time()\n",
    "print(\"\\n\\nTotal Time Required (in seconds): \", end-start)"
   ]
  },
  {
   "cell_type": "code",
   "execution_count": 81,
   "id": "5776adba",
   "metadata": {},
   "outputs": [
    {
     "name": "stderr",
     "output_type": "stream",
     "text": [
      "[Parallel(n_jobs=-1)]: Using backend LokyBackend with 96 concurrent workers.\n",
      "[Parallel(n_jobs=-1)]: Done   4 out of   7 | elapsed: 24.6min remaining: 18.4min\n",
      "[Parallel(n_jobs=-1)]: Done   7 out of   7 | elapsed: 25.8min finished\n",
      "[Parallel(n_jobs=-1)]: Using backend LokyBackend with 96 concurrent workers.\n",
      "[Parallel(n_jobs=-1)]: Done  15 out of  50 | elapsed:  3.8min remaining:  8.8min\n",
      "[Parallel(n_jobs=-1)]: Done  41 out of  50 | elapsed:  4.0min remaining:   52.8s\n",
      "[Parallel(n_jobs=-1)]: Done  50 out of  50 | elapsed:  4.9min finished\n",
      "[Parallel(n_jobs=-1)]: Using backend LokyBackend with 96 concurrent workers.\n",
      "[Parallel(n_jobs=-1)]: Done  15 out of  50 | elapsed:  3.7min remaining:  8.7min\n",
      "[Parallel(n_jobs=-1)]: Done  41 out of  50 | elapsed:  3.9min remaining:   52.0s\n",
      "[Parallel(n_jobs=-1)]: Done  50 out of  50 | elapsed:  4.4min finished\n",
      "[Parallel(n_jobs=-1)]: Using backend LokyBackend with 96 concurrent workers.\n",
      "[Parallel(n_jobs=-1)]: Done  15 out of  50 | elapsed:  3.7min remaining:  8.5min\n",
      "[Parallel(n_jobs=-1)]: Done  41 out of  50 | elapsed:  3.9min remaining:   51.2s\n",
      "[Parallel(n_jobs=-1)]: Done  50 out of  50 | elapsed:  4.5min finished\n",
      "[Parallel(n_jobs=-1)]: Using backend LokyBackend with 96 concurrent workers.\n",
      "[Parallel(n_jobs=-1)]: Done  15 out of  50 | elapsed:  3.8min remaining:  8.8min\n",
      "[Parallel(n_jobs=-1)]: Done  41 out of  50 | elapsed:  4.0min remaining:   52.8s\n",
      "[Parallel(n_jobs=-1)]: Done  50 out of  50 | elapsed:  4.5min finished\n",
      "[Parallel(n_jobs=-1)]: Using backend LokyBackend with 96 concurrent workers.\n",
      "[Parallel(n_jobs=-1)]: Done  15 out of  50 | elapsed:  3.6min remaining:  8.5min\n",
      "[Parallel(n_jobs=-1)]: Done  41 out of  50 | elapsed:  3.9min remaining:   51.0s\n",
      "[Parallel(n_jobs=-1)]: Done  50 out of  50 | elapsed:  4.6min finished\n",
      "[Parallel(n_jobs=-1)]: Using backend LokyBackend with 96 concurrent workers.\n",
      "[Parallel(n_jobs=-1)]: Done  15 out of  50 | elapsed:  3.7min remaining:  8.6min\n",
      "[Parallel(n_jobs=-1)]: Done  41 out of  50 | elapsed:  4.0min remaining:   52.2s\n",
      "[Parallel(n_jobs=-1)]: Done  50 out of  50 | elapsed:  4.3min finished\n",
      "[Parallel(n_jobs=-1)]: Using backend LokyBackend with 96 concurrent workers.\n",
      "[Parallel(n_jobs=-1)]: Done  15 out of  50 | elapsed:  3.6min remaining:  8.5min\n",
      "[Parallel(n_jobs=-1)]: Done  41 out of  50 | elapsed:  3.9min remaining:   51.1s\n"
     ]
    },
    {
     "name": "stdout",
     "output_type": "stream",
     "text": [
      "Markov Blanket:  ['cog', 'sog', 'beam', 'latitude', 'longitude', 'heading', 'length']\n",
      "Feature importance:  [21.69653315944471, 21.69653315944471, 21.69653315944471, 21.69653315944471, 21.69653315944471, 21.69653315944471, 21.69653315944471]\n"
     ]
    },
    {
     "name": "stderr",
     "output_type": "stream",
     "text": [
      "[Parallel(n_jobs=-1)]: Done  50 out of  50 | elapsed:  4.6min finished\n"
     ]
    },
    {
     "data": {
      "image/png": "[encoded data removed]",
      "text/plain": [
       "<Figure size 432x288 with 1 Axes>"
      ]
     },
     "metadata": {
      "needs_background": "light"
     },
     "output_type": "display_data"
    },
    {
     "name": "stdout",
     "output_type": "stream",
     "text": [
      "Score:  0.3315\n"
     ]
    },
    {
     "name": "stderr",
     "output_type": "stream",
     "text": [
      "[Parallel(n_jobs=-1)]: Using backend LokyBackend with 96 concurrent workers.\n",
      "[Parallel(n_jobs=-1)]: Done   4 out of   7 | elapsed: 24.1min remaining: 18.0min\n",
      "[Parallel(n_jobs=-1)]: Done   7 out of   7 | elapsed: 24.9min finished\n",
      "[Parallel(n_jobs=-1)]: Using backend LokyBackend with 96 concurrent workers.\n",
      "[Parallel(n_jobs=-1)]: Done  15 out of  50 | elapsed:  3.8min remaining:  8.8min\n",
      "[Parallel(n_jobs=-1)]: Done  41 out of  50 | elapsed:  4.1min remaining:   54.1s\n",
      "[Parallel(n_jobs=-1)]: Done  50 out of  50 | elapsed:  4.4min finished\n",
      "[Parallel(n_jobs=-1)]: Using backend LokyBackend with 96 concurrent workers.\n",
      "[Parallel(n_jobs=-1)]: Done  15 out of  50 | elapsed:  3.7min remaining:  8.7min\n",
      "[Parallel(n_jobs=-1)]: Done  41 out of  50 | elapsed:  4.0min remaining:   53.0s\n",
      "[Parallel(n_jobs=-1)]: Done  50 out of  50 | elapsed:  4.7min finished\n",
      "[Parallel(n_jobs=-1)]: Using backend LokyBackend with 96 concurrent workers.\n",
      "/home/users/aswin1906/.local/lib/python3.8/site-packages/joblib/externals/loky/process_executor.py:688: UserWarning: A worker stopped while some jobs were given to the executor. This can be caused by a too short worker timeout or by a memory leak.\n",
      "  warnings.warn(\n",
      "[Parallel(n_jobs=-1)]: Done  15 out of  50 | elapsed:  3.8min remaining:  8.8min\n",
      "[Parallel(n_jobs=-1)]: Done  41 out of  50 | elapsed:  4.0min remaining:   52.8s\n",
      "[Parallel(n_jobs=-1)]: Done  50 out of  50 | elapsed:  4.5min finished\n",
      "[Parallel(n_jobs=-1)]: Using backend LokyBackend with 96 concurrent workers.\n",
      "[Parallel(n_jobs=-1)]: Done  15 out of  50 | elapsed:  3.9min remaining:  9.0min\n",
      "[Parallel(n_jobs=-1)]: Done  41 out of  50 | elapsed:  4.2min remaining:   55.4s\n",
      "[Parallel(n_jobs=-1)]: Done  50 out of  50 | elapsed:  4.7min finished\n",
      "[Parallel(n_jobs=-1)]: Using backend LokyBackend with 96 concurrent workers.\n",
      "[Parallel(n_jobs=-1)]: Done  15 out of  50 | elapsed:  3.8min remaining:  8.8min\n",
      "[Parallel(n_jobs=-1)]: Done  41 out of  50 | elapsed:  4.2min remaining:   54.9s\n",
      "[Parallel(n_jobs=-1)]: Done  50 out of  50 | elapsed:  4.8min finished\n",
      "[Parallel(n_jobs=-1)]: Using backend LokyBackend with 96 concurrent workers.\n",
      "[Parallel(n_jobs=-1)]: Done  15 out of  50 | elapsed:  3.8min remaining:  8.9min\n",
      "[Parallel(n_jobs=-1)]: Done  41 out of  50 | elapsed:  4.1min remaining:   53.7s\n",
      "[Parallel(n_jobs=-1)]: Done  50 out of  50 | elapsed:  4.6min finished\n",
      "[Parallel(n_jobs=-1)]: Using backend LokyBackend with 96 concurrent workers.\n",
      "[Parallel(n_jobs=-1)]: Done  15 out of  50 | elapsed:  3.8min remaining:  8.8min\n",
      "[Parallel(n_jobs=-1)]: Done  41 out of  50 | elapsed:  4.0min remaining:   52.5s\n"
     ]
    },
    {
     "name": "stdout",
     "output_type": "stream",
     "text": [
      "Markov Blanket:  ['cog', 'sog', 'beam', 'latitude', 'longitude', 'heading', 'length']\n",
      "Feature importance:  [21.69653315944471, 21.69653315944471, 21.69653315944471, 21.69653315944471, 21.69653315944471, 21.69653315944471, 21.69653315944471]\n"
     ]
    },
    {
     "name": "stderr",
     "output_type": "stream",
     "text": [
      "[Parallel(n_jobs=-1)]: Done  50 out of  50 | elapsed:  4.8min finished\n"
     ]
    },
    {
     "data": {
      "image/png": "[encoded data removed]",
      "text/plain": [
       "<Figure size 432x288 with 1 Axes>"
      ]
     },
     "metadata": {
      "needs_background": "light"
     },
     "output_type": "display_data"
    },
    {
     "name": "stdout",
     "output_type": "stream",
     "text": [
      "Score:  0.3215\n"
     ]
    },
    {
     "name": "stderr",
     "output_type": "stream",
     "text": [
      "[Parallel(n_jobs=-1)]: Using backend LokyBackend with 96 concurrent workers.\n",
      "[Parallel(n_jobs=-1)]: Done   4 out of   7 | elapsed: 25.3min remaining: 19.0min\n",
      "[Parallel(n_jobs=-1)]: Done   7 out of   7 | elapsed: 25.9min finished\n",
      "[Parallel(n_jobs=-1)]: Using backend LokyBackend with 96 concurrent workers.\n",
      "[Parallel(n_jobs=-1)]: Done  15 out of  50 | elapsed:  3.9min remaining:  9.2min\n",
      "[Parallel(n_jobs=-1)]: Done  41 out of  50 | elapsed:  4.2min remaining:   55.0s\n",
      "[Parallel(n_jobs=-1)]: Done  50 out of  50 | elapsed:  4.8min finished\n",
      "[Parallel(n_jobs=-1)]: Using backend LokyBackend with 96 concurrent workers.\n",
      "[Parallel(n_jobs=-1)]: Done  15 out of  50 | elapsed:  3.8min remaining:  8.9min\n",
      "[Parallel(n_jobs=-1)]: Done  41 out of  50 | elapsed:  4.1min remaining:   54.4s\n",
      "[Parallel(n_jobs=-1)]: Done  50 out of  50 | elapsed:  4.6min finished\n",
      "[Parallel(n_jobs=-1)]: Using backend LokyBackend with 96 concurrent workers.\n",
      "[Parallel(n_jobs=-1)]: Done  15 out of  50 | elapsed:  3.8min remaining:  8.8min\n",
      "[Parallel(n_jobs=-1)]: Done  41 out of  50 | elapsed:  4.0min remaining:   53.1s\n",
      "[Parallel(n_jobs=-1)]: Done  50 out of  50 | elapsed:  4.8min finished\n",
      "[Parallel(n_jobs=-1)]: Using backend LokyBackend with 96 concurrent workers.\n",
      "[Parallel(n_jobs=-1)]: Done  15 out of  50 | elapsed:  3.8min remaining:  8.9min\n",
      "[Parallel(n_jobs=-1)]: Done  41 out of  50 | elapsed:  4.1min remaining:   54.2s\n",
      "[Parallel(n_jobs=-1)]: Done  50 out of  50 | elapsed:  4.7min finished\n",
      "[Parallel(n_jobs=-1)]: Using backend LokyBackend with 96 concurrent workers.\n",
      "[Parallel(n_jobs=-1)]: Done  15 out of  50 | elapsed:  3.8min remaining:  8.9min\n",
      "[Parallel(n_jobs=-1)]: Done  41 out of  50 | elapsed:  4.0min remaining:   53.0s\n",
      "[Parallel(n_jobs=-1)]: Done  50 out of  50 | elapsed:  4.4min finished\n",
      "[Parallel(n_jobs=-1)]: Using backend LokyBackend with 96 concurrent workers.\n",
      "[Parallel(n_jobs=-1)]: Done  15 out of  50 | elapsed:  3.8min remaining:  8.9min\n",
      "[Parallel(n_jobs=-1)]: Done  41 out of  50 | elapsed:  4.1min remaining:   53.4s\n",
      "[Parallel(n_jobs=-1)]: Done  50 out of  50 | elapsed:  4.5min finished\n",
      "[Parallel(n_jobs=-1)]: Using backend LokyBackend with 96 concurrent workers.\n",
      "[Parallel(n_jobs=-1)]: Done  15 out of  50 | elapsed:  3.8min remaining:  8.8min\n",
      "[Parallel(n_jobs=-1)]: Done  41 out of  50 | elapsed:  4.0min remaining:   53.1s\n"
     ]
    },
    {
     "name": "stdout",
     "output_type": "stream",
     "text": [
      "Markov Blanket:  ['cog', 'sog', 'beam', 'latitude', 'longitude', 'heading', 'length']\n",
      "Feature importance:  [21.69653315944471, 21.69653315944471, 21.69653315944471, 21.69653315944471, 21.69653315944471, 21.69653315944471, 21.69653315944471]\n"
     ]
    },
    {
     "name": "stderr",
     "output_type": "stream",
     "text": [
      "[Parallel(n_jobs=-1)]: Done  50 out of  50 | elapsed:  4.7min finished\n"
     ]
    },
    {
     "data": {
      "image/png": "[encoded data removed]",
      "text/plain": [
       "<Figure size 432x288 with 1 Axes>"
      ]
     },
     "metadata": {
      "needs_background": "light"
     },
     "output_type": "display_data"
    },
    {
     "name": "stdout",
     "output_type": "stream",
     "text": [
      "Score:  0.33\n"
     ]
    },
    {
     "name": "stderr",
     "output_type": "stream",
     "text": [
      "[Parallel(n_jobs=-1)]: Using backend LokyBackend with 96 concurrent workers.\n",
      "[Parallel(n_jobs=-1)]: Done   4 out of   7 | elapsed: 23.6min remaining: 17.7min\n",
      "[Parallel(n_jobs=-1)]: Done   7 out of   7 | elapsed: 25.3min finished\n",
      "[Parallel(n_jobs=-1)]: Using backend LokyBackend with 96 concurrent workers.\n",
      "[Parallel(n_jobs=-1)]: Done  15 out of  50 | elapsed:  3.7min remaining:  8.7min\n",
      "[Parallel(n_jobs=-1)]: Done  41 out of  50 | elapsed:  4.0min remaining:   53.1s\n",
      "[Parallel(n_jobs=-1)]: Done  50 out of  50 | elapsed:  4.6min finished\n",
      "[Parallel(n_jobs=-1)]: Using backend LokyBackend with 96 concurrent workers.\n",
      "[Parallel(n_jobs=-1)]: Done  15 out of  50 | elapsed:  3.8min remaining:  8.9min\n",
      "[Parallel(n_jobs=-1)]: Done  41 out of  50 | elapsed:  4.1min remaining:   54.1s\n",
      "[Parallel(n_jobs=-1)]: Done  50 out of  50 | elapsed:  4.5min finished\n",
      "[Parallel(n_jobs=-1)]: Using backend LokyBackend with 96 concurrent workers.\n",
      "[Parallel(n_jobs=-1)]: Done  15 out of  50 | elapsed:  3.7min remaining:  8.6min\n",
      "[Parallel(n_jobs=-1)]: Done  41 out of  50 | elapsed:  4.0min remaining:   52.5s\n",
      "[Parallel(n_jobs=-1)]: Done  50 out of  50 | elapsed:  4.6min finished\n",
      "[Parallel(n_jobs=-1)]: Using backend LokyBackend with 96 concurrent workers.\n",
      "[Parallel(n_jobs=-1)]: Done  15 out of  50 | elapsed:  3.7min remaining:  8.6min\n",
      "[Parallel(n_jobs=-1)]: Done  41 out of  50 | elapsed:  4.0min remaining:   52.7s\n",
      "[Parallel(n_jobs=-1)]: Done  50 out of  50 | elapsed:  4.7min finished\n",
      "[Parallel(n_jobs=-1)]: Using backend LokyBackend with 96 concurrent workers.\n",
      "[Parallel(n_jobs=-1)]: Done  15 out of  50 | elapsed:  3.7min remaining:  8.6min\n",
      "[Parallel(n_jobs=-1)]: Done  41 out of  50 | elapsed:  4.0min remaining:   52.3s\n",
      "[Parallel(n_jobs=-1)]: Done  50 out of  50 | elapsed:  4.5min finished\n",
      "[Parallel(n_jobs=-1)]: Using backend LokyBackend with 96 concurrent workers.\n",
      "[Parallel(n_jobs=-1)]: Done  15 out of  50 | elapsed:  3.7min remaining:  8.7min\n",
      "[Parallel(n_jobs=-1)]: Done  41 out of  50 | elapsed:  4.0min remaining:   52.6s\n",
      "[Parallel(n_jobs=-1)]: Done  50 out of  50 | elapsed:  4.8min finished\n",
      "[Parallel(n_jobs=-1)]: Using backend LokyBackend with 96 concurrent workers.\n",
      "[Parallel(n_jobs=-1)]: Done  15 out of  50 | elapsed:  3.7min remaining:  8.7min\n",
      "[Parallel(n_jobs=-1)]: Done  41 out of  50 | elapsed:  4.0min remaining:   53.1s\n"
     ]
    },
    {
     "name": "stdout",
     "output_type": "stream",
     "text": [
      "Markov Blanket:  ['cog', 'sog', 'beam', 'latitude', 'longitude', 'heading', 'length']\n",
      "Feature importance:  [21.69653315944471, 21.69653315944471, 21.69653315944471, 21.69653315944471, 21.69653315944471, 21.69653315944471, 21.69653315944471]\n"
     ]
    },
    {
     "name": "stderr",
     "output_type": "stream",
     "text": [
      "[Parallel(n_jobs=-1)]: Done  50 out of  50 | elapsed:  4.3min finished\n"
     ]
    },
    {
     "data": {
      "image/png": "[encoded data removed]",
      "text/plain": [
       "<Figure size 432x288 with 1 Axes>"
      ]
     },
     "metadata": {
      "needs_background": "light"
     },
     "output_type": "display_data"
    },
    {
     "name": "stdout",
     "output_type": "stream",
     "text": [
      "Score:  0.318\n"
     ]
    },
    {
     "name": "stderr",
     "output_type": "stream",
     "text": [
      "[Parallel(n_jobs=-1)]: Using backend LokyBackend with 96 concurrent workers.\n",
      "[Parallel(n_jobs=-1)]: Done   4 out of   7 | elapsed: 24.8min remaining: 18.6min\n",
      "[Parallel(n_jobs=-1)]: Done   7 out of   7 | elapsed: 26.2min finished\n",
      "[Parallel(n_jobs=-1)]: Using backend LokyBackend with 96 concurrent workers.\n",
      "[Parallel(n_jobs=-1)]: Done  15 out of  50 | elapsed:  3.8min remaining:  8.9min\n",
      "[Parallel(n_jobs=-1)]: Done  41 out of  50 | elapsed:  4.1min remaining:   54.5s\n",
      "[Parallel(n_jobs=-1)]: Done  50 out of  50 | elapsed:  4.9min finished\n",
      "[Parallel(n_jobs=-1)]: Using backend LokyBackend with 96 concurrent workers.\n",
      "[Parallel(n_jobs=-1)]: Done  15 out of  50 | elapsed:  3.7min remaining:  8.7min\n",
      "[Parallel(n_jobs=-1)]: Done  41 out of  50 | elapsed:  4.2min remaining:   55.9s\n",
      "[Parallel(n_jobs=-1)]: Done  50 out of  50 | elapsed:  4.5min finished\n",
      "[Parallel(n_jobs=-1)]: Using backend LokyBackend with 96 concurrent workers.\n",
      "[Parallel(n_jobs=-1)]: Done  15 out of  50 | elapsed:  3.8min remaining:  8.9min\n",
      "[Parallel(n_jobs=-1)]: Done  41 out of  50 | elapsed:  4.1min remaining:   54.3s\n",
      "[Parallel(n_jobs=-1)]: Done  50 out of  50 | elapsed:  4.6min finished\n",
      "[Parallel(n_jobs=-1)]: Using backend LokyBackend with 96 concurrent workers.\n",
      "[Parallel(n_jobs=-1)]: Done  15 out of  50 | elapsed:  3.9min remaining:  9.0min\n",
      "[Parallel(n_jobs=-1)]: Done  41 out of  50 | elapsed:  4.2min remaining:   55.1s\n",
      "[Parallel(n_jobs=-1)]: Done  50 out of  50 | elapsed:  4.7min finished\n",
      "[Parallel(n_jobs=-1)]: Using backend LokyBackend with 96 concurrent workers.\n",
      "[Parallel(n_jobs=-1)]: Done  15 out of  50 | elapsed:  3.7min remaining:  8.7min\n",
      "[Parallel(n_jobs=-1)]: Done  41 out of  50 | elapsed:  4.1min remaining:   54.1s\n",
      "[Parallel(n_jobs=-1)]: Done  50 out of  50 | elapsed:  4.4min finished\n",
      "[Parallel(n_jobs=-1)]: Using backend LokyBackend with 96 concurrent workers.\n",
      "[Parallel(n_jobs=-1)]: Done  15 out of  50 | elapsed:  3.8min remaining:  8.8min\n",
      "[Parallel(n_jobs=-1)]: Done  41 out of  50 | elapsed:  4.1min remaining:   53.9s\n",
      "[Parallel(n_jobs=-1)]: Done  50 out of  50 | elapsed:  4.6min finished\n",
      "[Parallel(n_jobs=-1)]: Using backend LokyBackend with 96 concurrent workers.\n",
      "[Parallel(n_jobs=-1)]: Done  15 out of  50 | elapsed:  3.7min remaining:  8.6min\n",
      "[Parallel(n_jobs=-1)]: Done  41 out of  50 | elapsed:  4.0min remaining:   52.4s\n"
     ]
    },
    {
     "name": "stdout",
     "output_type": "stream",
     "text": [
      "Markov Blanket:  ['cog', 'sog', 'beam', 'latitude', 'longitude', 'heading', 'length']\n",
      "Feature importance:  [21.69653315944471, 21.69653315944471, 21.69653315944471, 21.69653315944471, 21.69653315944471, 21.69653315944471, 21.69653315944471]\n"
     ]
    },
    {
     "name": "stderr",
     "output_type": "stream",
     "text": [
      "[Parallel(n_jobs=-1)]: Done  50 out of  50 | elapsed:  4.8min finished\n"
     ]
    },
    {
     "data": {
      "image/png": "[encoded data removed]",
      "text/plain": [
       "<Figure size 432x288 with 1 Axes>"
      ]
     },
     "metadata": {
      "needs_background": "light"
     },
     "output_type": "display_data"
    },
    {
     "name": "stdout",
     "output_type": "stream",
     "text": [
      "Score:  0.3155\n",
      "\n",
      "\n",
      "Average Accuracy:  0.32330000000000003\n",
      "\n",
      "\n",
      "Total Time Required (in seconds):  17410.022884368896\n"
     ]
    }
   ],
   "source": [
    "# We want to time our algorithm\n",
    "start = time.time()\n",
    "# Use KFold for understanding the performance of PyImpetus\n",
    "kfold = KFold(n_splits=5, random_state=27, shuffle=True)\n",
    "# This will hold all the accuracy scores\n",
    "scores = list()\n",
    "# Perform CV\n",
    "for train, test in kfold.split(data):\n",
    "    # Split data into train and test based on folds\n",
    "    x_train, x_test = data.iloc[train], data.iloc[test]\n",
    "    y_train, y_test = Y[train], Y[test]\n",
    "\n",
    "    # Create a PyImpetus classification object and initialize with required parameters\n",
    "    # NOTE: To achieve fast selection, set cv=0 for disabling the use of any internal cross-validation\n",
    "    model = PPIMBC(LogisticRegression(random_state=27), cv=0, num_simul=50, random_state=27, verbose=2)\n",
    "    # Fit this above object on the train part and transform the train dataset into selected feature subset\n",
    "    # NOTE: x_train has to be a dataframe and y_train has to be a numpy array\n",
    "    x_train = model.fit_transform(x_train, y_train)\n",
    "    # Transform the test set as well\n",
    "    # NOTE: x_test has to be a dataframe\n",
    "    x_test = model.transform(x_test)\n",
    "    # Check out the features selected\n",
    "    print(\"Markov Blanket: \", model.MB)\n",
    "    # Check out the scores of each feature. The scores are in order of the selected feature list\n",
    "    # NOTE: You can use these scores ina feature selection ensemble\n",
    "    print(\"Feature importance: \", model.feat_imp_scores)\n",
    "    # Plot the feature importance scores\n",
    "    model.feature_importance()\n",
    "    # Convert the data into numpy arrays\n",
    "    x_train, x_test = x_train.values, x_test.values\n",
    "    \n",
    "    model = DecisionTreeClassifier(random_state=27)\n",
    "    model.fit(x_train, y_train)\n",
    "    preds = model.predict(x_test)\n",
    "    score = accuracy_score(y_test, preds)\n",
    "    scores.append(score)\n",
    "    print(\"Score: \", score)\n",
    "# Compute average score\n",
    "print(\"\\n\\nAverage Accuracy: \", sum(scores)/len(scores))\n",
    "# Finally, check out the total time taken\n",
    "end = time.time()\n",
    "print(\"\\n\\nTotal Time Required (in seconds): \", end-start)"
   ]
  }
 ],
 "metadata": {
  "kernelspec": {
   "display_name": "Python 3",
   "language": "python",
   "name": "python3"
  },
  "language_info": {
   "codemirror_mode": {
    "name": "ipython",
    "version": 3
   },
   "file_extension": ".py",
   "mimetype": "text/x-python",
   "name": "python",
   "nbconvert_exporter": "python",
   "pygments_lexer": "ipython3",
   "version": "3.8.8"
  }
 },
 "nbformat": 4,
 "nbformat_minor": 5
}
